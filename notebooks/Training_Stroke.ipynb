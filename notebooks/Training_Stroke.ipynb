{
 "cells": [
  {
   "cell_type": "code",
   "execution_count": 27,
   "metadata": {},
   "outputs": [],
   "source": [
    "import pandas as pd\n",
    "import numpy as np\n",
    "import matplotlib.pyplot as plt\n",
    "\n",
    "# sklearn imports\n",
    "from sklearn.compose import ColumnTransformer\n",
    "from sklearn.model_selection import train_test_split, GridSearchCV\n",
    "from sklearn.ensemble import RandomForestClassifier\n",
    "from sklearn.svm import SVC\n",
    "from sklearn.pipeline import Pipeline\n",
    "from sklearn.metrics import accuracy_score, f1_score, recall_score, roc_auc_score, precision_score\n",
    "from sklearn.preprocessing import OneHotEncoder\n",
    "\n",
    "# imblearn imports\n",
    "from imblearn.over_sampling import RandomOverSampler\n",
    "from imblearn.under_sampling import RandomUnderSampler\n",
    "\n",
    "# DiCE imports\n",
    "import dice_ml\n",
    "from dice_ml.utils import helpers  "
   ]
  },
  {
   "cell_type": "markdown",
   "metadata": {},
   "source": [
    "## Import dataset using pandas"
   ]
  },
  {
   "cell_type": "code",
   "execution_count": 28,
   "metadata": {},
   "outputs": [
    {
     "data": {
      "text/html": [
       "<div>\n",
       "<style scoped>\n",
       "    .dataframe tbody tr th:only-of-type {\n",
       "        vertical-align: middle;\n",
       "    }\n",
       "\n",
       "    .dataframe tbody tr th {\n",
       "        vertical-align: top;\n",
       "    }\n",
       "\n",
       "    .dataframe thead th {\n",
       "        text-align: right;\n",
       "    }\n",
       "</style>\n",
       "<table border=\"1\" class=\"dataframe\">\n",
       "  <thead>\n",
       "    <tr style=\"text-align: right;\">\n",
       "      <th></th>\n",
       "      <th>gender</th>\n",
       "      <th>age</th>\n",
       "      <th>hypertension</th>\n",
       "      <th>heart_disease</th>\n",
       "      <th>ever_married</th>\n",
       "      <th>work_type</th>\n",
       "      <th>Residence_type</th>\n",
       "      <th>avg_glucose_level</th>\n",
       "      <th>bmi</th>\n",
       "      <th>smoking_status</th>\n",
       "      <th>stroke</th>\n",
       "    </tr>\n",
       "  </thead>\n",
       "  <tbody>\n",
       "    <tr>\n",
       "      <th>0</th>\n",
       "      <td>Male</td>\n",
       "      <td>67.0</td>\n",
       "      <td>0</td>\n",
       "      <td>1</td>\n",
       "      <td>Yes</td>\n",
       "      <td>Private</td>\n",
       "      <td>Urban</td>\n",
       "      <td>228.69</td>\n",
       "      <td>36.6</td>\n",
       "      <td>formerly smoked</td>\n",
       "      <td>1</td>\n",
       "    </tr>\n",
       "    <tr>\n",
       "      <th>2</th>\n",
       "      <td>Male</td>\n",
       "      <td>80.0</td>\n",
       "      <td>0</td>\n",
       "      <td>1</td>\n",
       "      <td>Yes</td>\n",
       "      <td>Private</td>\n",
       "      <td>Rural</td>\n",
       "      <td>105.92</td>\n",
       "      <td>32.5</td>\n",
       "      <td>never smoked</td>\n",
       "      <td>1</td>\n",
       "    </tr>\n",
       "    <tr>\n",
       "      <th>3</th>\n",
       "      <td>Female</td>\n",
       "      <td>49.0</td>\n",
       "      <td>0</td>\n",
       "      <td>0</td>\n",
       "      <td>Yes</td>\n",
       "      <td>Private</td>\n",
       "      <td>Urban</td>\n",
       "      <td>171.23</td>\n",
       "      <td>34.4</td>\n",
       "      <td>smokes</td>\n",
       "      <td>1</td>\n",
       "    </tr>\n",
       "    <tr>\n",
       "      <th>4</th>\n",
       "      <td>Female</td>\n",
       "      <td>79.0</td>\n",
       "      <td>1</td>\n",
       "      <td>0</td>\n",
       "      <td>Yes</td>\n",
       "      <td>Self-employed</td>\n",
       "      <td>Rural</td>\n",
       "      <td>174.12</td>\n",
       "      <td>24.0</td>\n",
       "      <td>never smoked</td>\n",
       "      <td>1</td>\n",
       "    </tr>\n",
       "    <tr>\n",
       "      <th>5</th>\n",
       "      <td>Male</td>\n",
       "      <td>81.0</td>\n",
       "      <td>0</td>\n",
       "      <td>0</td>\n",
       "      <td>Yes</td>\n",
       "      <td>Private</td>\n",
       "      <td>Urban</td>\n",
       "      <td>186.21</td>\n",
       "      <td>29.0</td>\n",
       "      <td>formerly smoked</td>\n",
       "      <td>1</td>\n",
       "    </tr>\n",
       "  </tbody>\n",
       "</table>\n",
       "</div>"
      ],
      "text/plain": [
       "   gender   age  hypertension  heart_disease ever_married      work_type  \\\n",
       "0    Male  67.0             0              1          Yes        Private   \n",
       "2    Male  80.0             0              1          Yes        Private   \n",
       "3  Female  49.0             0              0          Yes        Private   \n",
       "4  Female  79.0             1              0          Yes  Self-employed   \n",
       "5    Male  81.0             0              0          Yes        Private   \n",
       "\n",
       "  Residence_type  avg_glucose_level   bmi   smoking_status  stroke  \n",
       "0          Urban             228.69  36.6  formerly smoked       1  \n",
       "2          Rural             105.92  32.5     never smoked       1  \n",
       "3          Urban             171.23  34.4           smokes       1  \n",
       "4          Rural             174.12  24.0     never smoked       1  \n",
       "5          Urban             186.21  29.0  formerly smoked       1  "
      ]
     },
     "metadata": {},
     "output_type": "display_data"
    }
   ],
   "source": [
    "dataset = pd.read_csv('healthcare-dataset-stroke-data.csv')\n",
    "dataset = dataset.dropna()\n",
    "dataset = dataset.drop(['id'],axis=1)\n",
    "display(dataset.head())"
   ]
  },
  {
   "cell_type": "markdown",
   "metadata": {},
   "source": [
    "## Returning counts of labels"
   ]
  },
  {
   "cell_type": "code",
   "execution_count": 29,
   "metadata": {},
   "outputs": [
    {
     "data": {
      "text/plain": [
       "0    4700\n",
       "1     209\n",
       "Name: stroke, dtype: int64"
      ]
     },
     "execution_count": 29,
     "metadata": {},
     "output_type": "execute_result"
    }
   ],
   "source": [
    "dataset['stroke'].value_counts()"
   ]
  },
  {
   "cell_type": "markdown",
   "metadata": {},
   "source": [
    "Data is massively underbalanced. We will use random over and under sampling and see which technique leads to better performance"
   ]
  },
  {
   "cell_type": "markdown",
   "metadata": {},
   "source": [
    "## Train-Test Split"
   ]
  },
  {
   "cell_type": "code",
   "execution_count": 30,
   "metadata": {},
   "outputs": [
    {
     "name": "stdout",
     "output_type": "stream",
     "text": [
      "Counter({0: 209, 1: 209})\n",
      "<class 'pandas.core.frame.DataFrame'>\n"
     ]
    }
   ],
   "source": [
    "from collections import Counter\n",
    "\n",
    "\n",
    "target = dataset[\"stroke\"]\n",
    "X = dataset.drop(['stroke'],axis=1)\n",
    "\n",
    "ros = RandomUnderSampler()\n",
    "# resampling X, y\n",
    "dataset, target = ros.fit_resample(X, target)\n",
    "# new class distribution \n",
    "print(Counter(target))\n",
    "print(type(dataset))\n",
    "\n",
    "dataset = pd.concat([dataset,target],axis=1)\n",
    "\n",
    "train_dataset, test_dataset, y_train, y_test = train_test_split(dataset,\n",
    "                                                                target,\n",
    "                                                                test_size=0.2,\n",
    "                                                                random_state=0,\n",
    "                                                                stratify=target)\n",
    "x_train = train_dataset.drop('stroke', axis=1)\n",
    "x_test = test_dataset.drop('stroke', axis=1)"
   ]
  },
  {
   "cell_type": "markdown",
   "metadata": {},
   "source": [
    "## DICE object"
   ]
  },
  {
   "cell_type": "code",
   "execution_count": 31,
   "metadata": {},
   "outputs": [],
   "source": [
    "d = dice_ml.Data(dataframe=train_dataset, continuous_features=['age','avg_glucose_level','bmi'], outcome_name='stroke')"
   ]
  },
  {
   "cell_type": "markdown",
   "metadata": {},
   "source": [
    "## Pipeline"
   ]
  },
  {
   "cell_type": "code",
   "execution_count": 32,
   "metadata": {},
   "outputs": [],
   "source": [
    "numerical = ['age','avg_glucose_level','bmi']\n",
    "categorical = x_train.columns.difference(numerical)\n",
    "\n",
    "categorical_transformer = Pipeline(steps=[\n",
    "    ('onehot', OneHotEncoder(handle_unknown='ignore'))])\n",
    "\n",
    "transformations = ColumnTransformer(\n",
    "    transformers=[\n",
    "        ('cat', categorical_transformer, categorical)])\n",
    "\n",
    "# Append classifier to preprocessing pipeline.\n",
    "\n",
    "clf_rf = Pipeline(steps=[('preprocessor', transformations),\n",
    "                      ('clf', RandomForestClassifier(random_state=42))])\n",
    "\n",
    "clf_svm = Pipeline(steps=[('preprocessor', transformations),\n",
    "                      ('clf', SVC(random_state=42))])\n",
    "\n",
    "grid_params_rf = [{'clf__criterion': ['gini', 'entropy'],\n",
    "                   'clf__max_features': ['auto', 'sqrt'],\n",
    "                   'clf__n_estimators': [int(x) for x in np.linspace(start = 128, stop = 384, num = 32)],\n",
    "                   'clf__min_samples_split': [2, 5, 10],\n",
    "                   'clf__max_depth': [int(x) for x in np.linspace(start = 5, stop = 8, num = 1)]}]\n",
    "\n",
    "grid_params_svm = [{'clf__kernel': ['poly', 'rbf','sigmoid'], \n",
    "        'clf__C': [0.1, 1, 10, 100, 1000],\n",
    "        'clf__gamma': [1, 0.1, 0.01, 0.001, 0.0001]}]\n",
    "\n",
    "jobs = -1\n",
    "\n",
    "RF = GridSearchCV(estimator=clf_rf,\n",
    "            param_grid=grid_params_rf,\n",
    "            scoring='roc_auc',\n",
    "            cv=10, \n",
    "            n_jobs=jobs)\n",
    "\n",
    "\n",
    "SVM = GridSearchCV(estimator=clf_svm,\n",
    "            param_grid=grid_params_svm,\n",
    "            scoring='roc_auc',\n",
    "            cv=10,\n",
    "            n_jobs=jobs)\n",
    "\n",
    "grids = [RF,SVM]"
   ]
  },
  {
   "cell_type": "markdown",
   "metadata": {},
   "source": [
    "## Training models using Pipeline & GridSearchCV"
   ]
  },
  {
   "cell_type": "code",
   "execution_count": 33,
   "metadata": {},
   "outputs": [
    {
     "name": "stdout",
     "output_type": "stream",
     "text": [
      "Performing model optimizations...\n",
      "\n",
      "Estimator: Random Forest\n",
      "Best params are : {'clf__criterion': 'gini', 'clf__max_depth': 5, 'clf__max_features': 'auto', 'clf__min_samples_split': 10, 'clf__n_estimators': 161}\n",
      "Best training accuracy: 0.679\n",
      "Test set accuracy score for best params: 0.774 \n",
      "Precision score: 0.7254901960784313\n",
      "Recall score: 0.8809523809523809\n",
      "F1 score: 0.7956989247311828\n",
      "AUC-ROC score: 0.773809523809524\n",
      "\n",
      "Estimator: Support Vector Machine\n",
      "Best params are : {'clf__C': 0.1, 'clf__gamma': 0.01, 'clf__kernel': 'rbf'}\n",
      "Best training accuracy: 0.647\n",
      "Test set accuracy score for best params: 0.738 \n",
      "Precision score: 0.6785714285714286\n",
      "Recall score: 0.9047619047619048\n",
      "F1 score: 0.7755102040816326\n",
      "AUC-ROC score: 0.738095238095238\n"
     ]
    }
   ],
   "source": [
    "# Creating a dict for our reference\n",
    "grid_dict = {0: 'Random Forest', \n",
    "        1: 'Support Vector Machine'}\n",
    "\n",
    "best_rf = {'score': 0, 'best_model':0}\n",
    "best_svm = {'score': 0, 'best_model':0}\n",
    "\n",
    "# Fit the grid search objects\n",
    "print('Performing model optimizations...')\n",
    "\n",
    "for idx, model in enumerate(grids):\n",
    "    \n",
    "    print('\\nEstimator: %s' % grid_dict[idx])\n",
    "    model.fit(x_train, y_train)\n",
    "    print('Best params are : %s' % model.best_params_)\n",
    "    \n",
    "    # Best training data accuracy\n",
    "    print('Best training accuracy: %.3f' % model.best_score_)\n",
    "    \n",
    "    # Predict on test data with best params\n",
    "    y_pred = model.predict(x_test)\n",
    "    print('Test set accuracy score for best params: %.3f ' % accuracy_score(y_test, y_pred))\n",
    "    print('Precision score: {}'.format(precision_score(y_test, y_pred)))\n",
    "    print('Recall score: {}'.format(recall_score(y_test, y_pred)))\n",
    "    print('F1 score: {}'.format(f1_score(y_test, y_pred)))\n",
    "    print('AUC-ROC score: {}'.format(roc_auc_score(y_test, y_pred)))\n",
    "    \n",
    "    # Track best (highest test accuracy) model\n",
    "    if idx == 0:\n",
    "        if roc_auc_score(y_test, y_pred) > best_rf['score']:\n",
    "            best_rf['score'] = roc_auc_score(y_test, y_pred)\n",
    "            best_rf['best_model'] = model.best_params_ \n",
    "    \n",
    "    elif idx == 1:\n",
    "        if roc_auc_score(y_test, y_pred) > best_svm['score']:\n",
    "            best_svm['score'] = roc_auc_score(y_test, y_pred)\n",
    "            best_svm['best_model'] = model.best_params_\n",
    "            \n",
    "# save dict to file\n",
    "import json\n",
    "\n",
    "with open('best_stroke_rf_params.txt', 'w') as file:\n",
    "     file.write(json.dumps(best_rf)) # use `json.loads` to do the reverse\n",
    "        \n",
    "with open('best_stroke_svm_params.txt', 'w') as file:\n",
    "     file.write(json.dumps(best_svm)) # use `json.loads` to do the reverse"
   ]
  },
  {
   "cell_type": "code",
   "execution_count": null,
   "metadata": {},
   "outputs": [],
   "source": []
  }
 ],
 "metadata": {
  "kernelspec": {
   "display_name": "Python 3",
   "language": "python",
   "name": "python3"
  },
  "language_info": {
   "codemirror_mode": {
    "name": "ipython",
    "version": 3
   },
   "file_extension": ".py",
   "mimetype": "text/x-python",
   "name": "python",
   "nbconvert_exporter": "python",
   "pygments_lexer": "ipython3",
   "version": "3.7.6"
  }
 },
 "nbformat": 4,
 "nbformat_minor": 4
}
